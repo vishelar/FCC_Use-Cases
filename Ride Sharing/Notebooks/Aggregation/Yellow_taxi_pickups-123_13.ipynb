{
 "cells": [
  {
   "cell_type": "code",
   "execution_count": 1,
   "metadata": {
    "collapsed": true
   },
   "outputs": [],
   "source": [
    "import pandas as pd\n",
    "import geopandas as gp\n",
    "from fiona.crs import from_epsg\n",
    "import shapely\n",
    "import matplotlib.pylab as plt\n",
    "import csv\n",
    "import dateutil\n",
    "import os\n",
    "from shapely.geometry import Point\n",
    "%matplotlib inline"
   ]
  },
  {
   "cell_type": "code",
   "execution_count": 2,
   "metadata": {
    "collapsed": true
   },
   "outputs": [],
   "source": [
    "def clean_columns(data,year):\n",
    "    \n",
    "    data.columns = map(lambda x: x.strip(), list(data.columns))\n",
    "    data.columns = map(lambda x: x.lower(), list(data.columns))\n",
    "        \n",
    "    if (year == '2014') | (year == '2013'):\n",
    "        data.drop([u'vendor_id', u'passenger_count', u'rate_code', u'store_and_fwd_flag',\n",
    "                   'dropoff_longitude','dropoff_latitude', u'payment_type',u'fare_amount', \n",
    "                   u'surcharge', u'mta_tax', u'tip_amount',\n",
    "                   u'tolls_amount', u'total_amount'], axis = 1, inplace = True)\n",
    "        \n",
    "    elif year == '2015':\n",
    "        data.drop([u'vendorid', u'passenger_count', u'ratecodeid', u'store_and_fwd_flag',\n",
    "                   u'dropoff_longitude', u'dropoff_latitude', u'payment_type',\n",
    "                   u'fare_amount', u'extra', u'mta_tax', u'tip_amount', u'tolls_amount',\n",
    "                   u'improvement_surcharge', u'total_amount'], axis = 1, inplace = True)\n",
    "    \n",
    "    elif year == '2016':    \n",
    "        data.drop([u'vendorid', u'passenger_count', u'ratecodeid', u'store_and_fwd_flag',\n",
    "                   u'dropoff_longitude', u'dropoff_latitude', u'payment_type',\n",
    "                   u'fare_amount', u'extra', u'mta_tax', u'tip_amount', u'tolls_amount',\n",
    "                   u'improvement_surcharge', u'total_amount'], axis = 1, inplace = True)\n",
    "    \n",
    "    data.columns = ['date', 'dropoff_datetime', 'trip_distance', \n",
    "                    'pickup_longitude', 'pickup_latitude']\n",
    "    \n",
    "    return data"
   ]
  },
  {
   "cell_type": "code",
   "execution_count": 3,
   "metadata": {
    "collapsed": true
   },
   "outputs": [],
   "source": [
    "def data_aggregator(data, tzone):\n",
    "    \n",
    "    data[\"date\"] = pd.to_datetime(data[\"date\"])\n",
    "    \n",
    "    data = data[(data['trip_distance'] <= 30) & (data['trip_distance'] > 0)]\n",
    "\n",
    "    crs = {'init': 'epsg:4326', 'no_defs': True}\n",
    "    geometry = [Point(xy) for xy in zip(data[\"pickup_longitude\"], data[\"pickup_latitude\"])]\n",
    "    data = data.drop([\"pickup_longitude\", \"pickup_latitude\"], axis=1)\n",
    "    data = gp.GeoDataFrame(data, crs=crs, geometry=geometry)\n",
    "\n",
    "    print \"Spatially joining data and taxi zones\"\n",
    "    data_geo = gp.sjoin(tzones, data) \n",
    "    data_geo.drop(['borough', u'OBJECTID', 'Shape_Area', 'Shape_Leng',\n",
    "                   u'geometry', 'index_right', 'zone'], axis = 1, inplace = True)   \n",
    "    \n",
    "    \n",
    "    data_agg = data_geo.set_index('date').groupby([pd.TimeGrouper('D'),'LocationID']).agg({'trip_distance':'mean', \n",
    "                                                                                                'dropoff_datetime': 'count'})\n",
    "    data_agg.reset_index('LocationID', inplace=True)\n",
    "    \n",
    "    data_agg.columns = ['locationid', 'trip_distance', 'pickup_count']\n",
    "    print \"Done\"\n",
    "    return data_agg"
   ]
  },
  {
   "cell_type": "code",
   "execution_count": 4,
   "metadata": {
    "collapsed": true
   },
   "outputs": [],
   "source": [
    "# Read data by month\n",
    "def yellow_taxi(tzones): \n",
    "    \n",
    "    \n",
    "    if not (os.path.isdir(\"../../Data/Aggregated\")):\n",
    "        print \"Creating Folder Data/Aggregated\"\n",
    "        os.system(\"mkdir ../../Data/Aggregated\")\n",
    "        \n",
    "#     year = ['2014', '2015']\n",
    "#     months = ['01','02','03','04','05','06','07','08','09','10','11','12']\n",
    "    year = ['2013']\n",
    "    months = ['01','02','03']\n",
    "\n",
    "    yellow = []\n",
    "    for y in year:\n",
    "        for m in months:\n",
    "            \n",
    "            print \"Reading Data/Yellow/yellow_tripdata_\" + y + \"-\" + m + \".csv\"\n",
    "            data = pd.read_csv(\"../../Data/Yellow/yellow_tripdata_\" + y + \"-\" + m + \".csv\")\n",
    "            print \"Cleaning columns\"\n",
    "            data = clean_columns(data, y)\n",
    "            print \"Aggregating data\"\n",
    "            data_agg = data_aggregator(data, tzones)\n",
    "            data_agg.to_csv(\"../../Data/Aggregated/yellow_\"+ y + \"-\" + m + \".csv\")\n",
    "            yellow.append(data_agg)\n",
    "    \n",
    "    return yellow"
   ]
  },
  {
   "cell_type": "markdown",
   "metadata": {
    "collapsed": true
   },
   "source": [
    "# Taxi zones geocoded data"
   ]
  },
  {
   "cell_type": "code",
   "execution_count": 5,
   "metadata": {
    "collapsed": false
   },
   "outputs": [
    {
     "data": {
      "text/plain": [
       "263"
      ]
     },
     "execution_count": 5,
     "metadata": {},
     "output_type": "execute_result"
    }
   ],
   "source": [
    "tzones = gp.read_file(\"../../Data/taxi_zones/taxi_zones_updated.shp\")\n",
    "\n",
    "tzones.to_crs(epsg=4326, inplace=True)\n",
    "\n",
    "tzones.head(3)\n",
    "\n",
    "len(tzones.LocationID.unique())"
   ]
  },
  {
   "cell_type": "markdown",
   "metadata": {},
   "source": [
    "# Run Data"
   ]
  },
  {
   "cell_type": "code",
   "execution_count": 6,
   "metadata": {
    "collapsed": false
   },
   "outputs": [
    {
     "name": "stdout",
     "output_type": "stream",
     "text": [
      "Reading Data/Yellow/yellow_tripdata_2013-01.csv\n",
      "Cleaning columns\n",
      "Aggregating data\n",
      "Spatially joining data and taxi zones\n",
      "Done\n",
      "Reading Data/Yellow/yellow_tripdata_2013-02.csv\n"
     ]
    },
    {
     "name": "stderr",
     "output_type": "stream",
     "text": [
      "/opt/rh/anaconda/root/envs/PUI2016_Python2/lib/python2.7/site-packages/IPython/core/interactiveshell.py:2821: DtypeWarning: Columns (8) have mixed types. Specify dtype option on import or set low_memory=False.\n",
      "  if self.run_code(code, result):\n"
     ]
    },
    {
     "name": "stdout",
     "output_type": "stream",
     "text": [
      "Cleaning columns\n",
      "Aggregating data\n",
      "Spatially joining data and taxi zones\n",
      "Done\n",
      "Reading Data/Yellow/yellow_tripdata_2013-03.csv\n",
      "Cleaning columns\n",
      "Aggregating data\n",
      "Spatially joining data and taxi zones\n",
      "Done\n"
     ]
    }
   ],
   "source": [
    "data = yellow_taxi(tzones)"
   ]
  },
  {
   "cell_type": "code",
   "execution_count": null,
   "metadata": {
    "collapsed": true
   },
   "outputs": [],
   "source": []
  }
 ],
 "metadata": {
  "kernelspec": {
   "display_name": "PUI2016_Python2",
   "language": "python",
   "name": "pui2016_python2"
  },
  "language_info": {
   "codemirror_mode": {
    "name": "ipython",
    "version": 2
   },
   "file_extension": ".py",
   "mimetype": "text/x-python",
   "name": "python",
   "nbconvert_exporter": "python",
   "pygments_lexer": "ipython2",
   "version": "2.7.12"
  }
 },
 "nbformat": 4,
 "nbformat_minor": 0
}
