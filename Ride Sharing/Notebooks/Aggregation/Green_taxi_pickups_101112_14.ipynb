{
 "cells": [
  {
   "cell_type": "code",
   "execution_count": null,
   "metadata": {
    "collapsed": true
   },
   "outputs": [],
   "source": [
    "import pandas as pd\n",
    "import geopandas as gp\n",
    "from fiona.crs import from_epsg\n",
    "import shapely\n",
    "import matplotlib.pylab as plt\n",
    "import csv\n",
    "import dateutil\n",
    "import os\n",
    "from shapely.geometry import Point\n",
    "%matplotlib inline"
   ]
  },
  {
   "cell_type": "code",
   "execution_count": null,
   "metadata": {
    "collapsed": false
   },
   "outputs": [],
   "source": [
    "def clean_columns(data,year, month):\n",
    "    \n",
    "    data.columns = map(lambda x: x.strip(), list(data.columns))\n",
    "    data.columns = map(lambda x: x.lower(), list(data.columns))\n",
    "    \n",
    "    if (((year == '2015') & (month in ['07', '08', '09', '10', '11', '12'])) | (year == '2016')):\n",
    "        data.drop([u'vendorid',u'store_and_fwd_flag', u'ratecodeid', u'dropoff_longitude', \n",
    "                   u'dropoff_latitude', u'passenger_count', u'fare_amount', u'extra',\n",
    "                   u'mta_tax', u'tip_amount', u'tolls_amount', u'ehail_fee',\n",
    "                   u'improvement_surcharge', u'total_amount', u'payment_type',\n",
    "                   u'trip_type'], axis = 1, inplace = True)\n",
    "    \n",
    "    else: \n",
    "    \n",
    "        cols = data.columns\n",
    "        data.reset_index(inplace=True)\n",
    "        data = data.iloc[:,:len(cols)]\n",
    "        data.columns = cols\n",
    "        \n",
    "        if year == '2015':\n",
    "            data.drop([u'vendorid',u'store_and_fwd_flag', u'ratecodeid', u'dropoff_longitude', \n",
    "                       u'dropoff_latitude', u'passenger_count', u'fare_amount', u'extra',\n",
    "                       u'mta_tax', u'tip_amount', u'tolls_amount', u'ehail_fee',\n",
    "                       u'improvement_surcharge', u'total_amount', u'payment_type',\n",
    "                       u'trip_type'], axis = 1, inplace = True)\n",
    "        \n",
    "        elif year == '2014':\n",
    "            data.drop([u'vendorid',u'store_and_fwd_flag', u'ratecodeid', u'dropoff_longitude', \n",
    "                       u'dropoff_latitude', u'passenger_count', u'fare_amount', u'extra',\n",
    "                       u'mta_tax', u'tip_amount', u'tolls_amount', u'ehail_fee',\n",
    "                       u'total_amount', u'payment_type', u'trip_type'], axis = 1, inplace = True)\n",
    "               \n",
    "    data.columns = ['date', 'dropoff_datetime','pickup_longitude', 'pickup_latitude', \n",
    "                    'trip_distance']\n",
    "    \n",
    "    return data"
   ]
  },
  {
   "cell_type": "code",
   "execution_count": null,
   "metadata": {
    "collapsed": true
   },
   "outputs": [],
   "source": [
    "def data_aggregator(data, tzone):\n",
    "       \n",
    "    data[\"date\"] = pd.to_datetime(data[\"date\"])\n",
    "    data = data[(data['trip_distance'] <= 30) & (data['trip_distance'] > 0)]\n",
    "\n",
    "    crs = {'init': 'epsg:4326', 'no_defs': True}\n",
    "    geometry = [Point(xy) for xy in zip(data[\"pickup_longitude\"], data[\"pickup_latitude\"])]\n",
    "    data = data.drop([\"pickup_longitude\", \"pickup_latitude\"], axis=1)\n",
    "    data = gp.GeoDataFrame(data, crs=crs, geometry=geometry)\n",
    "\n",
    "    print \"Spatially joining data and taxi zones\"\n",
    "    data_geo = gp.sjoin(tzones, data) \n",
    "    data_geo.drop(['borough', u'OBJECTID', 'Shape_Area', 'Shape_Leng',\n",
    "                   u'geometry', 'index_right', 'zone'], axis = 1, inplace = True)   \n",
    "    \n",
    "\n",
    "    data_agg = data_geo.set_index('date').groupby([pd.TimeGrouper('D'),'LocationID']).agg({'trip_distance':'mean', \n",
    "                                                                                                'dropoff_datetime': 'count'})\n",
    "    data_agg.reset_index('LocationID', inplace=True)\n",
    "    \n",
    "    data_agg.columns = ['locationid', 'trip_distance', 'pickup_count']\n",
    "    print \"Done\"\n",
    "    return data_agg"
   ]
  },
  {
   "cell_type": "code",
   "execution_count": null,
   "metadata": {
    "collapsed": true
   },
   "outputs": [],
   "source": [
    "# Read data by month\n",
    "def green_taxi(tzones): \n",
    "    \n",
    "    \n",
    "#     if not (os.path.isdir(\"../Data/Aggregated\")):\n",
    "#         print \"Creating Folder Data/Aggregated\"\n",
    "#         os.system(\"mkdir ../Data/Aggregated\")\n",
    "        \n",
    "#     year = ['2014', '2015']\n",
    "#     months = ['01','02','03','04','05','06','07','08','09','10','11','12']\n",
    "    year = ['2014']\n",
    "    months = ['11','12']\n",
    "\n",
    "    green = []\n",
    "    for y in year:\n",
    "        for m in months:\n",
    "            \n",
    "            print \"Reading Data/Green/green_tripdata_\" + y + \"-\" + m + \".csv\"\n",
    "            data = pd.read_csv(\"../../Data/Green/green_tripdata_\" + y + \"-\" + m + \".csv\")\n",
    "            print \"Cleaning columns\"\n",
    "            data = clean_columns(data, y, m)\n",
    "            print \"Aggregating data\"\n",
    "            data_agg = data_aggregator(data, tzones)\n",
    "            data_agg.to_csv(\"../../Data/Aggregated/green_\"+ y + \"-\" + m + \".csv\")\n",
    "            green.append(data_agg)\n",
    "    \n",
    "    return green"
   ]
  },
  {
   "cell_type": "markdown",
   "metadata": {
    "collapsed": true
   },
   "source": [
    "# Taxi zones geocoded data"
   ]
  },
  {
   "cell_type": "code",
   "execution_count": null,
   "metadata": {
    "collapsed": false
   },
   "outputs": [],
   "source": [
    "tzones = gp.read_file(\"../../Data/taxi_zones/taxi_zones_updated.shp\")"
   ]
  },
  {
   "cell_type": "code",
   "execution_count": null,
   "metadata": {
    "collapsed": true
   },
   "outputs": [],
   "source": [
    "tzones.to_crs(epsg=4326, inplace=True)"
   ]
  },
  {
   "cell_type": "code",
   "execution_count": null,
   "metadata": {
    "collapsed": false
   },
   "outputs": [],
   "source": [
    "tzones.head(3)"
   ]
  },
  {
   "cell_type": "code",
   "execution_count": null,
   "metadata": {
    "collapsed": false
   },
   "outputs": [],
   "source": [
    "len(tzones.LocationID.unique())"
   ]
  },
  {
   "cell_type": "markdown",
   "metadata": {},
   "source": [
    "# Run Data"
   ]
  },
  {
   "cell_type": "code",
   "execution_count": null,
   "metadata": {
    "collapsed": false
   },
   "outputs": [],
   "source": [
    "data = green_taxi(tzones)"
   ]
  },
  {
   "cell_type": "code",
   "execution_count": null,
   "metadata": {
    "collapsed": true
   },
   "outputs": [],
   "source": []
  }
 ],
 "metadata": {
  "kernelspec": {
   "display_name": "PUI2016_Python2",
   "language": "python",
   "name": "pui2016_python2"
  },
  "language_info": {
   "codemirror_mode": {
    "name": "ipython",
    "version": 2
   },
   "file_extension": ".py",
   "mimetype": "text/x-python",
   "name": "python",
   "nbconvert_exporter": "python",
   "pygments_lexer": "ipython2",
   "version": "2.7.12"
  }
 },
 "nbformat": 4,
 "nbformat_minor": 0
}
