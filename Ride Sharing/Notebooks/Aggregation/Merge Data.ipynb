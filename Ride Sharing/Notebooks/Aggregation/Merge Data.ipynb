{
 "cells": [
  {
   "cell_type": "code",
   "execution_count": 9,
   "metadata": {
    "collapsed": true
   },
   "outputs": [],
   "source": [
    "import pandas as pd"
   ]
  },
  {
   "cell_type": "code",
   "execution_count": 10,
   "metadata": {
    "collapsed": false
   },
   "outputs": [],
   "source": [
    "years = ['2014', '2015']\n",
    "months = ['01','02','03','04','05','06','07','08','09','10','11','12']\n",
    "\n",
    "# years = ['2013']\n",
    "# months = ['08','09','10','11','12']\n",
    "\n",
    "\n",
    "yellow = pd.DataFrame()\n",
    "yellow_d = pd.DataFrame()\n",
    "green = pd.DataFrame()\n",
    "green_d = pd.DataFrame()\n",
    "\n",
    "for y in years:\n",
    "    for m in months:\n",
    "        \n",
    "        if ((y == '2016') & (m == '06')):\n",
    "            break\n",
    "        else:\n",
    "#             temp_y = pd.read_csv(\"../../Data/Aggregated/yellow_\" + y + \"-\" + m + \".csv\")\n",
    "#             yellow = yellow.append(temp_y, ignore_index = True)\n",
    "        \n",
    "            temp_g = pd.read_csv(\"../../Data/Aggregated/green_\" + y + \"-\" + m + \".csv\")\n",
    "            green = green.append(temp_g, ignore_index = True)\n",
    "            \n",
    "#             temp_gd = pd.read_csv(\"../Data/Aggregated/individual_files/green_dropoff_\" + y + \"-\" + m + \".csv\")\n",
    "#             green_d = green_d.append(temp_gd, ignore_index = True)\n",
    "            \n",
    "#             if ((y == '2014') & (m == '01')):\n",
    "#                 pass\n",
    "#             else:\n",
    "#                 temp_yd = pd.read_csv(\"../Data/Aggregated/individual_files/yellow_dropoff_\" + y + \"-\" + m + \".csv\")\n",
    "#                 yellow_d = yellow_d.append(temp_yd, ignore_index = True)"
   ]
  },
  {
   "cell_type": "code",
   "execution_count": 7,
   "metadata": {
    "collapsed": false
   },
   "outputs": [],
   "source": [
    "yellow.to_csv(\"../../Data/Aggregated/yellow_pickup_cleaned.csv\")\n",
    "# yellow_d.to_csv(\"../Data/Aggregated/yellow_dropooff.csv\")\n",
    "# green.to_csv(\"../Data/Aggregated/green_pickup.csv\")\n",
    "# green_d.to_csv(\"../Data/Aggregated/green_dropooff.csv\")"
   ]
  },
  {
   "cell_type": "code",
   "execution_count": 20,
   "metadata": {
    "collapsed": true
   },
   "outputs": [],
   "source": [
    "# years = ['2013', '2014', '2015', '2016']\n",
    "months = ['01','02','03','04','05','06','07','08','09','10','11','12']\n",
    "\n",
    "years = ['2013', '2014', '2015', '2016']\n",
    "months = ['08','09','10','11','12']\n",
    "\n",
    "\n",
    "# yellow = pd.DataFrame()\n",
    "# yellow_d = pd.DataFrame()\n",
    "# green = pd.DataFrame()\n",
    "citibike = pd.DataFrame()\n",
    "\n",
    "for y in years:\n",
    "    for m in months:\n",
    "        \n",
    "        if (((y == '2013') & (m in ['01','02','03','04','05','06'])) | \n",
    "            ((y == '2016') & (m in ['10','11','12']))):\n",
    "            pass\n",
    "        else:\n",
    "#             temp_y = pd.read_csv(\"../../Data/Aggregated/individual_files/yellow_\" + y + \"-\" + m + \".csv\")\n",
    "#             yellow = yellow.append(temp_y, ignore_index = True)\n",
    "        \n",
    "            temp = pd.read_csv(\"../../Data/Aggregated/individual_files/Citibike\"+ y + \"-\" + m + \".csv\")\n",
    "            citibike = citibike.append(temp, ignore_index = True)\n",
    "            \n",
    "#             temp_gd = pd.read_csv(\"../Data/Aggregated/individual_files/green_dropoff_\" + y + \"-\" + m + \".csv\")\n",
    "#             green_d = green_d.append(temp_gd, ignore_index = True)\n",
    "            \n",
    "#             if ((y == '2014') & (m == '01')):\n",
    "#                 pass\n",
    "#             else:\n",
    "#                 temp_yd = pd.read_csv(\"../Data/Aggregated/individual_files/yellow_dropoff_\" + y + \"-\" + m + \".csv\")\n",
    "#                 yellow_d = yellow_d.append(temp_yd, ignore_index = True)"
   ]
  },
  {
   "cell_type": "code",
   "execution_count": 34,
   "metadata": {
    "collapsed": false
   },
   "outputs": [],
   "source": [
    "yellow = pd.read_csv(\"../../Data/Aggregated/yellow_pickup.csv\")\n",
    "yellow.drop(['Unnamed: 0'], axis=1, inplace= True)"
   ]
  },
  {
   "cell_type": "code",
   "execution_count": 35,
   "metadata": {
    "collapsed": false
   },
   "outputs": [
    {
     "data": {
      "text/html": [
       "<div>\n",
       "<table border=\"1\" class=\"dataframe\">\n",
       "  <thead>\n",
       "    <tr style=\"text-align: right;\">\n",
       "      <th></th>\n",
       "      <th>date</th>\n",
       "      <th>locationid</th>\n",
       "      <th>trip_distance</th>\n",
       "      <th>pickup_count</th>\n",
       "    </tr>\n",
       "  </thead>\n",
       "  <tbody>\n",
       "    <tr>\n",
       "      <th>0</th>\n",
       "      <td>2013-01-01</td>\n",
       "      <td>1</td>\n",
       "      <td>1.6204</td>\n",
       "      <td>50</td>\n",
       "    </tr>\n",
       "    <tr>\n",
       "      <th>1</th>\n",
       "      <td>2013-01-01</td>\n",
       "      <td>3</td>\n",
       "      <td>7.7400</td>\n",
       "      <td>3</td>\n",
       "    </tr>\n",
       "  </tbody>\n",
       "</table>\n",
       "</div>"
      ],
      "text/plain": [
       "         date  locationid  trip_distance  pickup_count\n",
       "0  2013-01-01           1         1.6204            50\n",
       "1  2013-01-01           3         7.7400             3"
      ]
     },
     "execution_count": 35,
     "metadata": {},
     "output_type": "execute_result"
    }
   ],
   "source": [
    "yellow.head(2)"
   ]
  },
  {
   "cell_type": "code",
   "execution_count": 18,
   "metadata": {
    "collapsed": true
   },
   "outputs": [],
   "source": [
    "temp = pd.read_csv(\"../../Data/Aggregated/green_2013-12.csv\")\n",
    "# temp.columns = ['date', 'locationid', 'trip_distance', 'pickup_count']\n",
    "green = green.append(temp, ignore_index = True)"
   ]
  },
  {
   "cell_type": "code",
   "execution_count": 19,
   "metadata": {
    "collapsed": true
   },
   "outputs": [],
   "source": [
    "green.date = pd.to_datetime(green.date)"
   ]
  },
  {
   "cell_type": "code",
   "execution_count": 22,
   "metadata": {
    "collapsed": false
   },
   "outputs": [],
   "source": [
    "green.to_csv(\"../../Data/Aggregated/green_pickup_cleaned.csv\")"
   ]
  },
  {
   "cell_type": "code",
   "execution_count": 38,
   "metadata": {
    "collapsed": true
   },
   "outputs": [],
   "source": [
    "temp = pd.read_csv(\"../../Data/Aggregated/individual_files/yellow_2016-08.csv\")\n",
    "temp.columns = ['date', 'locationid', 'trip_distance', 'pickup_count']\n",
    "yellow = yellow.append(temp, ignore_index = True)"
   ]
  },
  {
   "cell_type": "code",
   "execution_count": null,
   "metadata": {
    "collapsed": true
   },
   "outputs": [],
   "source": [
    "temp = pd.read_csv(\"../../Data/Aggregated/individual_files/yellow_2016-09.csv\")\n",
    "temp.columns = ['date', 'locationid', 'trip_distance', 'pickup_count']\n",
    "yellow = yellow.append(temp, ignore_index = True)"
   ]
  },
  {
   "cell_type": "code",
   "execution_count": null,
   "metadata": {
    "collapsed": true
   },
   "outputs": [],
   "source": [
    "temp = pd.read_csv(\"../../Data/Aggregated/individual_files/yellow_2016-10.csv\")\n",
    "temp.columns = ['date', 'locationid', 'trip_distance', 'pickup_count']\n",
    "yellow = yellow.append(temp, ignore_index = True)"
   ]
  },
  {
   "cell_type": "code",
   "execution_count": null,
   "metadata": {
    "collapsed": true
   },
   "outputs": [],
   "source": [
    "temp = pd.read_csv(\"../../Data/Aggregated/individual_files/yellow_2016-11.csv\")\n",
    "temp.columns = ['date', 'locationid', 'trip_distance', 'pickup_count']\n",
    "yellow = yellow.append(temp, ignore_index = True)"
   ]
  },
  {
   "cell_type": "code",
   "execution_count": null,
   "metadata": {
    "collapsed": true
   },
   "outputs": [],
   "source": [
    "temp = pd.read_csv(\"../../Data/Aggregated/individual_files/yellow_2016-12.csv\")\n",
    "temp.columns = ['date', 'locationid', 'trip_distance', 'pickup_count']\n",
    "yellow = yellow.append(temp, ignore_index = True)"
   ]
  }
 ],
 "metadata": {
  "kernelspec": {
   "display_name": "PUI2016_Python2",
   "language": "python",
   "name": "pui2016_python2"
  },
  "language_info": {
   "codemirror_mode": {
    "name": "ipython",
    "version": 2
   },
   "file_extension": ".py",
   "mimetype": "text/x-python",
   "name": "python",
   "nbconvert_exporter": "python",
   "pygments_lexer": "ipython2",
   "version": "2.7.12"
  }
 },
 "nbformat": 4,
 "nbformat_minor": 0
}
